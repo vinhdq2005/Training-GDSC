{
 "cells": [
  {
   "cell_type": "code",
   "execution_count": 28,
   "metadata": {},
   "outputs": [
    {
     "name": "stdout",
     "output_type": "stream",
     "text": [
      "csgo\n"
     ]
    }
   ],
   "source": [
    "class human:\n",
    "    nationality = \"Viet Nam\"\n",
    "    \n",
    "    def __init__(self, name, age, game):\n",
    "        self.name = name\n",
    "        self.age = age\n",
    "        self.__game = game\n",
    "    def study(self):\n",
    "        print(f\"{self.name} is now studying python\")\n",
    "    def playgame(self):\n",
    "        print(f\"{self.name} was busted because of playing game in training class\")\n",
    "    def get_game(self):\n",
    "        return self.__game\n",
    "    def sing(self):\n",
    "        print(\"sing random\")\n",
    "    def learn(self, subject):\n",
    "        print(f\"{self.name} is studying {subject}\")\n",
    "    def __str__(self):\n",
    "        return f\"{self.name} {self.age}\"\n",
    "\n",
    "student = human(\"Vinh\", \"18\", \"csgo\")\n",
    "# print(f\"my student's name is {student.name}\")\n",
    "# print(f\"my student's age is {student.age}\")\n",
    "# print(student.sing())\n",
    "# student.learn(\"math\")\n",
    "\n",
    "print(student.get_game())"
   ]
  },
  {
   "cell_type": "code",
   "execution_count": 51,
   "metadata": {},
   "outputs": [
    {
     "name": "stdout",
     "output_type": "stream",
     "text": [
      "Vinh 18 3.426 vinhdq2005@gmail.com math\n"
     ]
    },
    {
     "data": {
      "text/plain": [
       "'math'"
      ]
     },
     "execution_count": 51,
     "metadata": {},
     "output_type": "execute_result"
    }
   ],
   "source": [
    "class Person:\n",
    "    def __init__(self, name, age, subject):\n",
    "        self.name = name\n",
    "        self.age = age\n",
    "        self._subject = subject\n",
    "    def show(self):\n",
    "        return f\"{self.name} {self.age}\"\n",
    "    \n",
    "class Student:\n",
    "    def __init__(self, name, age, subject, gpa, email):\n",
    "        Person.__init__(self, name, age, subject)\n",
    "        self.gpa = gpa\n",
    "        self.email = email\n",
    "    def infor(self):\n",
    "        print(f\"{self.name} {self.age} {self.gpa} {self.email} {self._subject}\")\n",
    "    def show(self):\n",
    "        return Person.show(self) + ' ' + f\"{self.gpa:.2f} {self.email}\"\n",
    "    \n",
    "student = Student(\"Vinh\", 18, \"math\", 3.426, \"vinhdq2005@gmail.com\")\n",
    "student.infor()\n",
    "student.show()\n",
    "student._subject"
   ]
  },
  {
   "cell_type": "code",
   "execution_count": 54,
   "metadata": {},
   "outputs": [
    {
     "name": "stdout",
     "output_type": "stream",
     "text": [
      "sum n1, n2, n3 = 47\n"
     ]
    }
   ],
   "source": [
    "class Tinhtong:\n",
    "    def __init__(self, n1, n2, n3):\n",
    "        self.n1 = n1\n",
    "        self.n2 = n2\n",
    "        self.n3 = n3\n",
    "    def calculate(self):\n",
    "        print(f\"sum n1, n2, n3 = {self.n1 + self.n2 + self.n3}\")\n",
    "    # def calculate(self):\n",
    "    #     print(\"\")\n",
    "\n",
    "cal = Tinhtong(12, 15, 20)\n",
    "cal.calculate()\n"
   ]
  }
 ],
 "metadata": {
  "kernelspec": {
   "display_name": "Python 3",
   "language": "python",
   "name": "python3"
  },
  "language_info": {
   "codemirror_mode": {
    "name": "ipython",
    "version": 3
   },
   "file_extension": ".py",
   "mimetype": "text/x-python",
   "name": "python",
   "nbconvert_exporter": "python",
   "pygments_lexer": "ipython3",
   "version": "3.11.5"
  }
 },
 "nbformat": 4,
 "nbformat_minor": 2
}
